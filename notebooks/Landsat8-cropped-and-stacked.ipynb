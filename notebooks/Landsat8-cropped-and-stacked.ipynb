{
 "cells": [
  {
   "cell_type": "markdown",
   "metadata": {},
   "source": [
    "# From Landsat 8 Scene to AOI Stacked Array \n",
    "\n",
    "This script will crop a previously downloaded Level-2 (on-demand) Landsat 8 scene to an area of interest (AOI), resulting in a stacked array.\n",
    "\n",
    "**Note**: When running this code as is, it will take a long time and a lot of space to download the full Landsat scene from figshare (427.32MB zipped, and unzips at download)."
   ]
  },
  {
   "cell_type": "code",
   "execution_count": 3,
   "metadata": {},
   "outputs": [],
   "source": [
    "# Import Packages\n",
    "import os\n",
    "from glob import glob\n",
    "\n",
    "import geopandas as gpd\n",
    "#from shapely.geometry import box\n",
    "import numpy as np\n",
    "from matplotlib import pyplot as plt, cm\n",
    "from matplotlib.colors import ListedColormap\n",
    "import rasterio as rio\n",
    "from rasterio.mask import mask\n",
    "from rasterio.plot import plotting_extent\n",
    "\n",
    "import earthpy as et\n",
    "import earthpy.spatial as es\n",
    "import earthpy.plot as ep\n",
    "\n",
    "#######################NOT WORKING: INSISTING IT IS A .PY FILES###############\n",
    "# Make ONAQ site info retrievable\n",
    "%run ../modules/retrieve-neon-site-boundary.ipynb"
   ]
  },
  {
   "cell_type": "code",
   "execution_count": 4,
   "metadata": {},
   "outputs": [],
   "source": [
    "# # Get data and set working and outputs directory\n",
    "# url='https://ndownloader.figshare.com/files/23372924'\n",
    "# et.data.get_data(url=url, replace=True)\n",
    "\n",
    "os.chdir(os.path.join(et.io.HOME, 'earth-analytics'))\n",
    "\n",
    "output_subdir = os.path.join('data', 'Landsat')\n",
    "if os.path.isdir(output_subdir) == False:\n",
    "    os.mkdir(output_subdir)\n",
    "\n",
    "output_dir = os.path.join(output_subdir, \"outputs\")\n",
    "if os.path.isdir(output_dir) == False:\n",
    "    os.mkdir(output_dir)"
   ]
  },
  {
   "cell_type": "markdown",
   "metadata": {},
   "source": [
    "## Retrieve AOI shapefile"
   ]
  },
  {
   "cell_type": "code",
   "execution_count": 6,
   "metadata": {},
   "outputs": [
    {
     "data": {
      "text/html": [
       "<div>\n",
       "<style scoped>\n",
       "    .dataframe tbody tr th:only-of-type {\n",
       "        vertical-align: middle;\n",
       "    }\n",
       "\n",
       "    .dataframe tbody tr th {\n",
       "        vertical-align: top;\n",
       "    }\n",
       "\n",
       "    .dataframe thead th {\n",
       "        text-align: right;\n",
       "    }\n",
       "</style>\n",
       "<table border=\"1\" class=\"dataframe\">\n",
       "  <thead>\n",
       "    <tr style=\"text-align: right;\">\n",
       "      <th></th>\n",
       "      <th>siteID</th>\n",
       "      <th>domainNumb</th>\n",
       "      <th>domainName</th>\n",
       "      <th>siteType</th>\n",
       "      <th>siteName</th>\n",
       "      <th>siteHost</th>\n",
       "      <th>areaKm2</th>\n",
       "      <th>acres</th>\n",
       "      <th>geometry</th>\n",
       "    </tr>\n",
       "  </thead>\n",
       "  <tbody>\n",
       "    <tr>\n",
       "      <th>0</th>\n",
       "      <td>ONAQ</td>\n",
       "      <td>D15</td>\n",
       "      <td>Great Basin</td>\n",
       "      <td>Core Terrestrial</td>\n",
       "      <td>Onaqui</td>\n",
       "      <td>Bureau of Land Management</td>\n",
       "      <td>67.774086</td>\n",
       "      <td>16747.341399</td>\n",
       "      <td>POLYGON ((-112.42605 40.22358, -112.42129 40.2...</td>\n",
       "    </tr>\n",
       "  </tbody>\n",
       "</table>\n",
       "</div>"
      ],
      "text/plain": [
       "  siteID domainNumb   domainName          siteType siteName  \\\n",
       "0   ONAQ        D15  Great Basin  Core Terrestrial   Onaqui   \n",
       "\n",
       "                    siteHost    areaKm2         acres  \\\n",
       "0  Bureau of Land Management  67.774086  16747.341399   \n",
       "\n",
       "                                            geometry  \n",
       "0  POLYGON ((-112.42605 40.22358, -112.42129 40.2...  "
      ]
     },
     "execution_count": 6,
     "metadata": {},
     "output_type": "execute_result"
    }
   ],
   "source": [
    "#############################AUTOMATION NOT ACCESSING DATA GRABBER#######################\n",
    "# Download aoi extent from NEON\n",
    "# url = 'https://www.neonscience.org/neon-terrestrial-field-site-boundaries-shapefile'\n",
    "# et.data.get_data(url=url, replace=True)\n",
    "\n",
    "# Create path to shapefile\n",
    "terrestrial_sites_path = os.path.join(\n",
    "    'data', 'earthpy-downloads',\n",
    "    'Field_Sampling_Boundaries_2020',\n",
    "    'terrestrialSamplingBoundaries.shp')\n",
    "\n",
    "# # Read in extent as pandas geodataframe\n",
    "# site_bounds = NEON_site_extent(\n",
    "#     path_to_NEON_boundaries=terrestrial_sites_path,\n",
    "#     site='ONAQ')\n",
    "\n",
    "# Retrieving the boundaries of ONAQ site\n",
    "NEON_boundaries = gpd.read_file(terrestrial_sites_path)\n",
    "boundaries_indexed = NEON_boundaries.set_index(['siteID'])\n",
    "\n",
    "site_bounds = boundaries_indexed.loc[['ONAQ']]\n",
    "site_bounds.reset_index(inplace=True)\n",
    "\n",
    "site_bounds"
   ]
  },
  {
   "cell_type": "markdown",
   "metadata": {},
   "source": [
    "## Explore Landsat 8 scene"
   ]
  },
  {
   "cell_type": "code",
   "execution_count": null,
   "metadata": {},
   "outputs": [],
   "source": [
    "# Create bands path\n",
    "l8_onaq_path = glob(os.path.join(\"data\",\n",
    "                    \"earthpy-downloads\", \n",
    "                    \"LC080380322019061001T1-SC20200623214804\", \n",
    "                    \"*band*.tif\"))\n",
    "\n",
    "# Sort bands in numeric order\n",
    "l8_onaq_path.sort()\n",
    "\n",
    "# Import, stack onaq rasters \n",
    "l8_onaq, onaq_meta = es.stack(l8_onaq_path, nodata=-9999.0)\n",
    "\n",
    "# Create landsat extent\n",
    "landsat_extent = plotting_extent(l8_onaq[0], \n",
    "                                 onaq_meta[\"transform\"])"
   ]
  },
  {
   "cell_type": "code",
   "execution_count": null,
   "metadata": {},
   "outputs": [],
   "source": [
    "# # Visualize band data without -9999\n",
    "ep.hist(l8_onaq, \n",
    "        title=[\"Band 1\", \"Band 2\", \"Band 3\",\n",
    "               \"Band 4\", \"Band 5\", \"Band 6\", \n",
    "               \"Band 7\"])"
   ]
  },
  {
   "cell_type": "markdown",
   "metadata": {},
   "source": [
    "## Bring AOI and Landsat 8 scene together"
   ]
  },
  {
   "cell_type": "code",
   "execution_count": null,
   "metadata": {},
   "outputs": [],
   "source": [
    "# Assure crs of aoi and raster are same \n",
    "print('site bounds crs: ', site_bounds.crs)\n",
    "print('landsat bounds crs: 32612')\n",
    "######################NOT SURE WHY NOT WORKING####################\n",
    "# print('landsat crs: ', onaq_meta.crs)\n",
    "\n",
    "# Reprojection of AOI shapefile\n",
    "site_bounds_reproj = site_bounds.to_crs(32612)\n",
    "print('site bounds reprojected crs: ', site_bounds_reproj.crs)"
   ]
  },
  {
   "cell_type": "code",
   "execution_count": null,
   "metadata": {},
   "outputs": [],
   "source": [
    "# Crop stack extent of each band\n",
    "crop_images = es.crop_all(l8_onaq_path, raster_out_path, site_bounds_reproj, overwrite=True)\n",
    "\n",
    "stacked_path = os.path.join(output_dir, 'stacked_aoi.tif')\n",
    "\n",
    "stacked_aoi, stacked_meta = es.stack(crop_images, stacked_path)"
   ]
  },
  {
   "cell_type": "code",
   "execution_count": null,
   "metadata": {},
   "outputs": [],
   "source": [
    "# Plot new raster AOI extent\n",
    "ep.plot_bands(stacked_aoi)"
   ]
  }
 ],
 "metadata": {
  "kernelspec": {
   "display_name": "Python 3",
   "language": "python",
   "name": "python3"
  },
  "language_info": {
   "codemirror_mode": {
    "name": "ipython",
    "version": 3
   },
   "file_extension": ".py",
   "mimetype": "text/x-python",
   "name": "python",
   "nbconvert_exporter": "python",
   "pygments_lexer": "ipython3",
   "version": "3.7.6"
  },
  "toc": {
   "base_numbering": 1,
   "nav_menu": {},
   "number_sections": true,
   "sideBar": true,
   "skip_h1_title": false,
   "title_cell": "Table of Contents",
   "title_sidebar": "Contents",
   "toc_cell": false,
   "toc_position": {},
   "toc_section_display": true,
   "toc_window_display": true
  }
 },
 "nbformat": 4,
 "nbformat_minor": 4
}
