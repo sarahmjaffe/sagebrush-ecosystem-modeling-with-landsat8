{
 "cells": [
  {
   "cell_type": "code",
   "execution_count": 2,
   "metadata": {},
   "outputs": [],
   "source": [
    "import numpy as np"
   ]
  },
  {
   "cell_type": "code",
   "execution_count": 11,
   "metadata": {},
   "outputs": [
    {
     "data": {
      "text/plain": [
       "array([[[0.09655411, 0.05796718],\n",
       "        [0.28573144, 0.05147156]],\n",
       "\n",
       "       [[0.77855893, 0.01118148],\n",
       "        [0.31498066, 0.32990603]]])"
      ]
     },
     "execution_count": 11,
     "metadata": {},
     "output_type": "execute_result"
    }
   ],
   "source": [
    "x = np.random.rand(2, 2, 2)\n",
    "x"
   ]
  },
  {
   "cell_type": "code",
   "execution_count": 15,
   "metadata": {},
   "outputs": [
    {
     "data": {
      "text/plain": [
       "0.3372030039982804"
      ]
     },
     "execution_count": 15,
     "metadata": {},
     "output_type": "execute_result"
    }
   ],
   "source": [
    "y = x.sum(axis=2)[0, 1]     \n",
    "y"
   ]
  },
  {
   "cell_type": "code",
   "execution_count": 13,
   "metadata": {},
   "outputs": [
    {
     "data": {
      "text/plain": [
       "0.3372030039982804"
      ]
     },
     "execution_count": 13,
     "metadata": {},
     "output_type": "execute_result"
    }
   ],
   "source": [
    "z = x[0, 1, :].sum()\n",
    "z"
   ]
  },
  {
   "cell_type": "code",
   "execution_count": 16,
   "metadata": {},
   "outputs": [
    {
     "data": {
      "text/plain": [
       "0.3372030039982804"
      ]
     },
     "execution_count": 16,
     "metadata": {},
     "output_type": "execute_result"
    }
   ],
   "source": [
    "test = x[0, 1, ].sum()\n",
    "test"
   ]
  },
  {
   "cell_type": "code",
   "execution_count": 52,
   "metadata": {},
   "outputs": [
    {
     "data": {
      "text/plain": [
       "(3, 3, 3)"
      ]
     },
     "execution_count": 52,
     "metadata": {},
     "output_type": "execute_result"
    }
   ],
   "source": [
    "x = np.array([[[ 0,  1,  2],\n",
    "        [ 3,  4,  5],\n",
    "        [ 6,  7,  8]],\n",
    "\n",
    "       [[ 9, 10, 11],\n",
    "        [12, 13, 14],\n",
    "        [15, 16, 17]],\n",
    "\n",
    "       [[18, 19, 20],\n",
    "        [21, 22, 23],\n",
    "        [24, 25, 26]]])\n",
    "x.astype(int)\n",
    "x.shape"
   ]
  },
  {
   "cell_type": "code",
   "execution_count": 53,
   "metadata": {},
   "outputs": [
    {
     "name": "stdout",
     "output_type": "stream",
     "text": [
      "[[[18 19 20]\n",
      "  [21 22 23]\n",
      "  [24 25 26]]] (1, 3, 3)\n"
     ]
    }
   ],
   "source": [
    "s, t, u = np.array_split(x, 3)\n",
    "print(u, u.shape)"
   ]
  },
  {
   "cell_type": "code",
   "execution_count": 56,
   "metadata": {},
   "outputs": [
    {
     "data": {
      "text/plain": [
       "array([[[ 9, 10, 11],\n",
       "        [12, 13, 14],\n",
       "        [15, 16, 17]],\n",
       "\n",
       "       [[18, 19, 20],\n",
       "        [21, 22, 23],\n",
       "        [24, 25, 26]]])"
      ]
     },
     "execution_count": 56,
     "metadata": {},
     "output_type": "execute_result"
    }
   ],
   "source": [
    "# create 2D array from 2 1D arrays\n",
    "concat_t_u = np.vstack((t, u))\n",
    "concat_t_u"
   ]
  },
  {
   "cell_type": "code",
   "execution_count": 57,
   "metadata": {},
   "outputs": [
    {
     "data": {
      "text/plain": [
       "array([[[0.22222222, 0.2       , 0.18181818],\n",
       "        [0.16666667, 0.15384615, 0.14285714],\n",
       "        [0.13333333, 0.125     , 0.11764706]],\n",
       "\n",
       "       [[0.11111111, 0.10526316, 0.1       ],\n",
       "        [0.0952381 , 0.09090909, 0.08695652],\n",
       "        [0.08333333, 0.08      , 0.07692308]]])"
      ]
     },
     "execution_count": 57,
     "metadata": {},
     "output_type": "execute_result"
    }
   ],
   "source": [
    "math_arr = 2/concat_t_u\n",
    "math_arr"
   ]
  },
  {
   "cell_type": "code",
   "execution_count": 60,
   "metadata": {},
   "outputs": [
    {
     "data": {
      "text/plain": [
       "array([[[0.        , 1.        , 2.        ],\n",
       "        [3.        , 4.        , 5.        ],\n",
       "        [6.        , 7.        , 8.        ]],\n",
       "\n",
       "       [[0.22222222, 0.2       , 0.18181818],\n",
       "        [0.16666667, 0.15384615, 0.14285714],\n",
       "        [0.13333333, 0.125     , 0.11764706]],\n",
       "\n",
       "       [[0.11111111, 0.10526316, 0.1       ],\n",
       "        [0.0952381 , 0.09090909, 0.08695652],\n",
       "        [0.08333333, 0.08      , 0.07692308]]])"
      ]
     },
     "execution_count": 60,
     "metadata": {},
     "output_type": "execute_result"
    }
   ],
   "source": [
    "regroup_arr = np.vstack((s, math_arr))\n",
    "regroup_arr"
   ]
  }
 ],
 "metadata": {
  "kernelspec": {
   "display_name": "Python 3",
   "language": "python",
   "name": "python3"
  },
  "language_info": {
   "codemirror_mode": {
    "name": "ipython",
    "version": 3
   },
   "file_extension": ".py",
   "mimetype": "text/x-python",
   "name": "python",
   "nbconvert_exporter": "python",
   "pygments_lexer": "ipython3",
   "version": "3.7.6"
  },
  "toc": {
   "base_numbering": 1,
   "nav_menu": {},
   "number_sections": true,
   "sideBar": true,
   "skip_h1_title": false,
   "title_cell": "Table of Contents",
   "title_sidebar": "Contents",
   "toc_cell": false,
   "toc_position": {},
   "toc_section_display": true,
   "toc_window_display": false
  }
 },
 "nbformat": 4,
 "nbformat_minor": 4
}
