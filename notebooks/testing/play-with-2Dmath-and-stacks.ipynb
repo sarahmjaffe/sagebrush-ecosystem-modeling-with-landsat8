{
 "cells": [
  {
   "cell_type": "code",
   "execution_count": 1,
   "metadata": {},
   "outputs": [],
   "source": [
    "# Import Packages\n",
    "import os\n",
    "from glob import glob\n",
    "\n",
    "import geopandas as gpd\n",
    "#from shapely.geometry import box\n",
    "import numpy as np\n",
    "from matplotlib import pyplot as plt, cm\n",
    "from matplotlib.colors import ListedColormap\n",
    "import rasterio as rio\n",
    "from rasterio.mask import mask\n",
    "from rasterio.plot import plotting_extent\n",
    "\n",
    "import earthpy as et\n",
    "import earthpy.spatial as es\n",
    "import earthpy.plot as ep\n",
    "\n",
    "from tifffile import imwrite\n",
    "\n",
    "#######################NOT WORKING: INSISTING IT IS A .PY FILES###############\n",
    "# # Make ONAQ site info retrievable\n",
    "# %run ../modules/retrieve-neon-site-boundary.ipynb"
   ]
  },
  {
   "cell_type": "code",
   "execution_count": 2,
   "metadata": {},
   "outputs": [],
   "source": [
    "############NOT DOWNLOADING ALL SCENES IN A READABLE FORMAT##################\n",
    "# url = 'https://ndownloader.figshare.com/articles/12559364'\n",
    "# et.data.get_data(url=url, replace=True)"
   ]
  },
  {
   "cell_type": "code",
   "execution_count": 3,
   "metadata": {},
   "outputs": [],
   "source": [
    "# Set working directory and other paths\n",
    "os.chdir(os.path.join(et.io.HOME, 'earth-analytics'))\n",
    "\n",
    "band3_path = os.path.join('data', 'earthpy-downloads', \n",
    "                     'LC08_L1TP_038032_20190610_20190619_01_T1_sr_band3_crop.tif')\n",
    "\n",
    "all_bands_path = glob(os.path.join('data', 'earthpy-downloads',\n",
    "                                  '*crop.tif'))\n",
    "\n",
    "output_subdir = os.path.join('data', 'Landsat')\n",
    "if os.path.isdir(output_subdir) == False:\n",
    "    os.mkdir(output_subdir)"
   ]
  },
  {
   "cell_type": "code",
   "execution_count": 4,
   "metadata": {},
   "outputs": [
    {
     "name": "stdout",
     "output_type": "stream",
     "text": [
      "Min reflectance:  238\n",
      "Max reflectance:  3014\n"
     ]
    }
   ],
   "source": [
    "with rio.open(band3_path) as src:\n",
    "    band3_tif = src.read()\n",
    "    band3_meta = src.meta\n",
    "    \n",
    "print('Min reflectance: ', band3_tif.min())\n",
    "print('Max reflectance: ', band3_tif.max())"
   ]
  },
  {
   "cell_type": "code",
   "execution_count": 5,
   "metadata": {},
   "outputs": [
    {
     "data": {
      "text/plain": [
       "array([[[1059, 1084, 1039, ..., 1308, 1308, 1572],\n",
       "        [1136, 1090, 1019, ..., 1175, 1400, 1493],\n",
       "        [1207, 1173, 1106, ..., 1248, 1278, 1309],\n",
       "        ...,\n",
       "        [ 944,  942,  854, ..., 1775, 1688, 1628],\n",
       "        [ 987,  839,  788, ..., 1784, 1827, 1765],\n",
       "        [ 960,  843,  836, ..., 1480, 1850, 1842]]], dtype=int16)"
      ]
     },
     "execution_count": 5,
     "metadata": {},
     "output_type": "execute_result"
    }
   ],
   "source": [
    "band3_tif"
   ]
  },
  {
   "cell_type": "code",
   "execution_count": 6,
   "metadata": {},
   "outputs": [
    {
     "data": {
      "text/plain": [
       "(1, 298, 397)"
      ]
     },
     "execution_count": 6,
     "metadata": {},
     "output_type": "execute_result"
    }
   ],
   "source": [
    "band3_tif.shape"
   ]
  },
  {
   "cell_type": "code",
   "execution_count": 7,
   "metadata": {},
   "outputs": [
    {
     "data": {
      "text/plain": [
       "array([[[0.1059, 0.1084, 0.1039, ..., 0.1308, 0.1308, 0.1572],\n",
       "        [0.1136, 0.109 , 0.1019, ..., 0.1175, 0.14  , 0.1493],\n",
       "        [0.1207, 0.1173, 0.1106, ..., 0.1248, 0.1278, 0.1309],\n",
       "        ...,\n",
       "        [0.0944, 0.0942, 0.0854, ..., 0.1775, 0.1688, 0.1628],\n",
       "        [0.0987, 0.0839, 0.0788, ..., 0.1784, 0.1827, 0.1765],\n",
       "        [0.096 , 0.0843, 0.0836, ..., 0.148 , 0.185 , 0.1842]]])"
      ]
     },
     "execution_count": 7,
     "metadata": {},
     "output_type": "execute_result"
    }
   ],
   "source": [
    "band_math = band3_tif*0.0001\n",
    "band_math"
   ]
  },
  {
   "cell_type": "code",
   "execution_count": 15,
   "metadata": {},
   "outputs": [
    {
     "data": {
      "text/plain": [
       "'band5'"
      ]
     },
     "execution_count": 15,
     "metadata": {},
     "output_type": "execute_result"
    }
   ],
   "source": [
    "################NEEDS TO BE WRITTEN OUT TO INPUT PATH IN ES.STACK################\n",
    "# To write out scaled_band.tifs\n",
    "for i in all_bands_path:\n",
    "    \n",
    "    # Extract band name\n",
    "    band_name = os.path.basename(os.path.normpath(i[67:-9]))\n",
    "    \n",
    "#     # Open, conduct math, write out and stack scaled bands\n",
    "#     with rio.open(i) as src:\n",
    "#         all_bands_open = src.read()\n",
    "#         all_bands_math = all_bands_open * 0.0001\n",
    "        \n",
    "#         # WRITE OUT SCALEDS USING BAND_NAME\n",
    "#         imwrite(os.path.join(output_subdir + band_name + '_scaled.tif'), all_bands_math)\n",
    "        \n",
    "#         # RESET PATH\n",
    "#         all_bands_scaled = glob(os.path.join(output_subdir + '*_scaled.tif'))\n",
    "        \n",
    "#         # STACK SCALED BANDS\n",
    "#         es.stack(all_bands_scaled, output_subdir + 'stacked-test.tif')"
   ]
  },
  {
   "cell_type": "code",
   "execution_count": 33,
   "metadata": {},
   "outputs": [],
   "source": [
    "with rio.open(all_bands_path[0]) as src:\n",
    "    bands3 = src.read()\n",
    "    meta3 = src.meta\n",
    "    \n",
    "with rio.open(all_bands_path[1]) as src:\n",
    "    bands4 = src.read()\n",
    "    meta4 = src.meta\n",
    "    \n",
    "with rio.open(all_bands_path[2]) as src:\n",
    "    bands5 = src.read()\n",
    "    meta5 = src.meta\n",
    "\n",
    "\n",
    "###########################NOT WRITING TRUE TO FORMAT###########################\n",
    "band3_math = bands3 * 1000\n",
    "imwrite(os.path.join(output_subdir + 'band3_scaled.tif'), band3_math)\n",
    "\n",
    "band4_math = bands4 * 1000\n",
    "\n",
    "band5_math = bands5 * 1000\n",
    "\n",
    "# list = [bands3, bands4, bands5]\n",
    "\n",
    "# for i in list:\n",
    "#     band_math = i * 0.0001\n",
    "#     name_out = '_test.tif'\n",
    "#     print(i + name_out)\n",
    "# #     f.write(os.path.join(output_subdir + name_out), band_math))\n",
    "# #     imwrite(os.path.join(output_subdir + name_out), band_math, dtype=int16)         "
   ]
  },
  {
   "cell_type": "code",
   "execution_count": null,
   "metadata": {},
   "outputs": [],
   "source": [
    "#     band_math_stack = es.stack(band_math, 'data')"
   ]
  }
 ],
 "metadata": {
  "kernelspec": {
   "display_name": "Python 3",
   "language": "python",
   "name": "python3"
  },
  "language_info": {
   "codemirror_mode": {
    "name": "ipython",
    "version": 3
   },
   "file_extension": ".py",
   "mimetype": "text/x-python",
   "name": "python",
   "nbconvert_exporter": "python",
   "pygments_lexer": "ipython3",
   "version": "3.7.6"
  },
  "toc": {
   "base_numbering": 1,
   "nav_menu": {},
   "number_sections": true,
   "sideBar": true,
   "skip_h1_title": false,
   "title_cell": "Table of Contents",
   "title_sidebar": "Contents",
   "toc_cell": false,
   "toc_position": {},
   "toc_section_display": true,
   "toc_window_display": false
  }
 },
 "nbformat": 4,
 "nbformat_minor": 4
}
